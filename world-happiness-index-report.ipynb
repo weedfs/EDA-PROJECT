{
 "cells": [
  {
   "cell_type": "code",
   "execution_count": 1,
   "id": "covered-blade",
   "metadata": {
    "_cell_guid": "b1076dfc-b9ad-4769-8c92-a6c4dae69d19",
    "_kg_hide-input": true,
    "_uuid": "8f2839f25d086af736a60e9eeb907d3b93b6e0e5",
    "execution": {
     "iopub.execute_input": "2021-06-28T04:56:47.780587Z",
     "iopub.status.busy": "2021-06-28T04:56:47.779469Z",
     "iopub.status.idle": "2021-06-28T04:56:47.795732Z",
     "shell.execute_reply": "2021-06-28T04:56:47.794757Z"
    },
    "papermill": {
     "duration": 0.045175,
     "end_time": "2021-06-28T04:56:47.795959",
     "exception": false,
     "start_time": "2021-06-28T04:56:47.750784",
     "status": "completed"
    },
    "tags": []
   },
   "outputs": [],
   "source": [
    "# This Python 3 environment comes with many helpful analytics libraries installed\n",
    "# It is defined by the kaggle/python Docker image: https://github.com/kaggle/docker-python\n",
    "# For example, here's several helpful packages to load\n",
    "\n",
    "import numpy as np # linear algebra\n",
    "import pandas as pd # data processing, CSV file I/O (e.g. pd.read_csv)\n",
    "\n",
    "# Input data files are available in the read-only \"../input/\" directory\n",
    "# For example, running this (by clicking run or pressing Shift+Enter) will list all files under the input directory\n",
    "\n",
    "import os\n",
    "for dirname, _, filenames in os.walk('/kaggle/input'):\n",
    "    for filename in filenames:\n",
    "        print(os.path.join(dirname, filename))\n",
    "\n",
    "# You can write up to 20GB to the current directory (/kaggle/working/) that gets preserved as output when you create a version using \"Save & Run All\" \n",
    "# You can also write temporary files to /kaggle/temp/, but they won't be saved outside of the current session"
   ]
  },
  {
   "cell_type": "code",
   "execution_count": 2,
   "id": "removable-wheel",
   "metadata": {
    "_kg_hide-input": true,
    "execution": {
     "iopub.execute_input": "2021-06-28T04:56:47.853258Z",
     "iopub.status.busy": "2021-06-28T04:56:47.852460Z",
     "iopub.status.idle": "2021-06-28T04:56:47.889046Z",
     "shell.execute_reply": "2021-06-28T04:56:47.888312Z"
    },
    "papermill": {
     "duration": 0.06675,
     "end_time": "2021-06-28T04:56:47.889196",
     "exception": false,
     "start_time": "2021-06-28T04:56:47.822446",
     "status": "completed"
    },
    "tags": []
   },
   "outputs": [
    {
     "ename": "FileNotFoundError",
     "evalue": "[Errno 2] No such file or directory: '../input/world-happiness-report-2021/world-happiness-report-2021.csv'",
     "output_type": "error",
     "traceback": [
      "\u001b[1;31m---------------------------------------------------------------------------\u001b[0m",
      "\u001b[1;31mFileNotFoundError\u001b[0m                         Traceback (most recent call last)",
      "Cell \u001b[1;32mIn[2], line 1\u001b[0m\n\u001b[1;32m----> 1\u001b[0m df \u001b[38;5;241m=\u001b[39m pd\u001b[38;5;241m.\u001b[39mread_csv(\u001b[38;5;124m'\u001b[39m\u001b[38;5;124m../input/world-happiness-report-2021/world-happiness-report-2021.csv\u001b[39m\u001b[38;5;124m'\u001b[39m)\n\u001b[0;32m      2\u001b[0m df1\u001b[38;5;241m=\u001b[39mpd\u001b[38;5;241m.\u001b[39mread_csv(\u001b[38;5;124m'\u001b[39m\u001b[38;5;124m../input/world-happiness-report-2021/world-happiness-report.csv\u001b[39m\u001b[38;5;124m'\u001b[39m)\n\u001b[0;32m      3\u001b[0m \u001b[38;5;28;01mimport\u001b[39;00m \u001b[38;5;21;01mwarnings\u001b[39;00m\n",
      "File \u001b[1;32m~\\anaconda3\\New folder\\Lib\\site-packages\\pandas\\util\\_decorators.py:211\u001b[0m, in \u001b[0;36mdeprecate_kwarg.<locals>._deprecate_kwarg.<locals>.wrapper\u001b[1;34m(*args, **kwargs)\u001b[0m\n\u001b[0;32m    209\u001b[0m     \u001b[38;5;28;01melse\u001b[39;00m:\n\u001b[0;32m    210\u001b[0m         kwargs[new_arg_name] \u001b[38;5;241m=\u001b[39m new_arg_value\n\u001b[1;32m--> 211\u001b[0m \u001b[38;5;28;01mreturn\u001b[39;00m func(\u001b[38;5;241m*\u001b[39margs, \u001b[38;5;241m*\u001b[39m\u001b[38;5;241m*\u001b[39mkwargs)\n",
      "File \u001b[1;32m~\\anaconda3\\New folder\\Lib\\site-packages\\pandas\\util\\_decorators.py:331\u001b[0m, in \u001b[0;36mdeprecate_nonkeyword_arguments.<locals>.decorate.<locals>.wrapper\u001b[1;34m(*args, **kwargs)\u001b[0m\n\u001b[0;32m    325\u001b[0m \u001b[38;5;28;01mif\u001b[39;00m \u001b[38;5;28mlen\u001b[39m(args) \u001b[38;5;241m>\u001b[39m num_allow_args:\n\u001b[0;32m    326\u001b[0m     warnings\u001b[38;5;241m.\u001b[39mwarn(\n\u001b[0;32m    327\u001b[0m         msg\u001b[38;5;241m.\u001b[39mformat(arguments\u001b[38;5;241m=\u001b[39m_format_argument_list(allow_args)),\n\u001b[0;32m    328\u001b[0m         \u001b[38;5;167;01mFutureWarning\u001b[39;00m,\n\u001b[0;32m    329\u001b[0m         stacklevel\u001b[38;5;241m=\u001b[39mfind_stack_level(),\n\u001b[0;32m    330\u001b[0m     )\n\u001b[1;32m--> 331\u001b[0m \u001b[38;5;28;01mreturn\u001b[39;00m func(\u001b[38;5;241m*\u001b[39margs, \u001b[38;5;241m*\u001b[39m\u001b[38;5;241m*\u001b[39mkwargs)\n",
      "File \u001b[1;32m~\\anaconda3\\New folder\\Lib\\site-packages\\pandas\\io\\parsers\\readers.py:950\u001b[0m, in \u001b[0;36mread_csv\u001b[1;34m(filepath_or_buffer, sep, delimiter, header, names, index_col, usecols, squeeze, prefix, mangle_dupe_cols, dtype, engine, converters, true_values, false_values, skipinitialspace, skiprows, skipfooter, nrows, na_values, keep_default_na, na_filter, verbose, skip_blank_lines, parse_dates, infer_datetime_format, keep_date_col, date_parser, dayfirst, cache_dates, iterator, chunksize, compression, thousands, decimal, lineterminator, quotechar, quoting, doublequote, escapechar, comment, encoding, encoding_errors, dialect, error_bad_lines, warn_bad_lines, on_bad_lines, delim_whitespace, low_memory, memory_map, float_precision, storage_options)\u001b[0m\n\u001b[0;32m    935\u001b[0m kwds_defaults \u001b[38;5;241m=\u001b[39m _refine_defaults_read(\n\u001b[0;32m    936\u001b[0m     dialect,\n\u001b[0;32m    937\u001b[0m     delimiter,\n\u001b[1;32m   (...)\u001b[0m\n\u001b[0;32m    946\u001b[0m     defaults\u001b[38;5;241m=\u001b[39m{\u001b[38;5;124m\"\u001b[39m\u001b[38;5;124mdelimiter\u001b[39m\u001b[38;5;124m\"\u001b[39m: \u001b[38;5;124m\"\u001b[39m\u001b[38;5;124m,\u001b[39m\u001b[38;5;124m\"\u001b[39m},\n\u001b[0;32m    947\u001b[0m )\n\u001b[0;32m    948\u001b[0m kwds\u001b[38;5;241m.\u001b[39mupdate(kwds_defaults)\n\u001b[1;32m--> 950\u001b[0m \u001b[38;5;28;01mreturn\u001b[39;00m _read(filepath_or_buffer, kwds)\n",
      "File \u001b[1;32m~\\anaconda3\\New folder\\Lib\\site-packages\\pandas\\io\\parsers\\readers.py:605\u001b[0m, in \u001b[0;36m_read\u001b[1;34m(filepath_or_buffer, kwds)\u001b[0m\n\u001b[0;32m    602\u001b[0m _validate_names(kwds\u001b[38;5;241m.\u001b[39mget(\u001b[38;5;124m\"\u001b[39m\u001b[38;5;124mnames\u001b[39m\u001b[38;5;124m\"\u001b[39m, \u001b[38;5;28;01mNone\u001b[39;00m))\n\u001b[0;32m    604\u001b[0m \u001b[38;5;66;03m# Create the parser.\u001b[39;00m\n\u001b[1;32m--> 605\u001b[0m parser \u001b[38;5;241m=\u001b[39m TextFileReader(filepath_or_buffer, \u001b[38;5;241m*\u001b[39m\u001b[38;5;241m*\u001b[39mkwds)\n\u001b[0;32m    607\u001b[0m \u001b[38;5;28;01mif\u001b[39;00m chunksize \u001b[38;5;129;01mor\u001b[39;00m iterator:\n\u001b[0;32m    608\u001b[0m     \u001b[38;5;28;01mreturn\u001b[39;00m parser\n",
      "File \u001b[1;32m~\\anaconda3\\New folder\\Lib\\site-packages\\pandas\\io\\parsers\\readers.py:1442\u001b[0m, in \u001b[0;36mTextFileReader.__init__\u001b[1;34m(self, f, engine, **kwds)\u001b[0m\n\u001b[0;32m   1439\u001b[0m     \u001b[38;5;28mself\u001b[39m\u001b[38;5;241m.\u001b[39moptions[\u001b[38;5;124m\"\u001b[39m\u001b[38;5;124mhas_index_names\u001b[39m\u001b[38;5;124m\"\u001b[39m] \u001b[38;5;241m=\u001b[39m kwds[\u001b[38;5;124m\"\u001b[39m\u001b[38;5;124mhas_index_names\u001b[39m\u001b[38;5;124m\"\u001b[39m]\n\u001b[0;32m   1441\u001b[0m \u001b[38;5;28mself\u001b[39m\u001b[38;5;241m.\u001b[39mhandles: IOHandles \u001b[38;5;241m|\u001b[39m \u001b[38;5;28;01mNone\u001b[39;00m \u001b[38;5;241m=\u001b[39m \u001b[38;5;28;01mNone\u001b[39;00m\n\u001b[1;32m-> 1442\u001b[0m \u001b[38;5;28mself\u001b[39m\u001b[38;5;241m.\u001b[39m_engine \u001b[38;5;241m=\u001b[39m \u001b[38;5;28mself\u001b[39m\u001b[38;5;241m.\u001b[39m_make_engine(f, \u001b[38;5;28mself\u001b[39m\u001b[38;5;241m.\u001b[39mengine)\n",
      "File \u001b[1;32m~\\anaconda3\\New folder\\Lib\\site-packages\\pandas\\io\\parsers\\readers.py:1735\u001b[0m, in \u001b[0;36mTextFileReader._make_engine\u001b[1;34m(self, f, engine)\u001b[0m\n\u001b[0;32m   1733\u001b[0m     \u001b[38;5;28;01mif\u001b[39;00m \u001b[38;5;124m\"\u001b[39m\u001b[38;5;124mb\u001b[39m\u001b[38;5;124m\"\u001b[39m \u001b[38;5;129;01mnot\u001b[39;00m \u001b[38;5;129;01min\u001b[39;00m mode:\n\u001b[0;32m   1734\u001b[0m         mode \u001b[38;5;241m+\u001b[39m\u001b[38;5;241m=\u001b[39m \u001b[38;5;124m\"\u001b[39m\u001b[38;5;124mb\u001b[39m\u001b[38;5;124m\"\u001b[39m\n\u001b[1;32m-> 1735\u001b[0m \u001b[38;5;28mself\u001b[39m\u001b[38;5;241m.\u001b[39mhandles \u001b[38;5;241m=\u001b[39m get_handle(\n\u001b[0;32m   1736\u001b[0m     f,\n\u001b[0;32m   1737\u001b[0m     mode,\n\u001b[0;32m   1738\u001b[0m     encoding\u001b[38;5;241m=\u001b[39m\u001b[38;5;28mself\u001b[39m\u001b[38;5;241m.\u001b[39moptions\u001b[38;5;241m.\u001b[39mget(\u001b[38;5;124m\"\u001b[39m\u001b[38;5;124mencoding\u001b[39m\u001b[38;5;124m\"\u001b[39m, \u001b[38;5;28;01mNone\u001b[39;00m),\n\u001b[0;32m   1739\u001b[0m     compression\u001b[38;5;241m=\u001b[39m\u001b[38;5;28mself\u001b[39m\u001b[38;5;241m.\u001b[39moptions\u001b[38;5;241m.\u001b[39mget(\u001b[38;5;124m\"\u001b[39m\u001b[38;5;124mcompression\u001b[39m\u001b[38;5;124m\"\u001b[39m, \u001b[38;5;28;01mNone\u001b[39;00m),\n\u001b[0;32m   1740\u001b[0m     memory_map\u001b[38;5;241m=\u001b[39m\u001b[38;5;28mself\u001b[39m\u001b[38;5;241m.\u001b[39moptions\u001b[38;5;241m.\u001b[39mget(\u001b[38;5;124m\"\u001b[39m\u001b[38;5;124mmemory_map\u001b[39m\u001b[38;5;124m\"\u001b[39m, \u001b[38;5;28;01mFalse\u001b[39;00m),\n\u001b[0;32m   1741\u001b[0m     is_text\u001b[38;5;241m=\u001b[39mis_text,\n\u001b[0;32m   1742\u001b[0m     errors\u001b[38;5;241m=\u001b[39m\u001b[38;5;28mself\u001b[39m\u001b[38;5;241m.\u001b[39moptions\u001b[38;5;241m.\u001b[39mget(\u001b[38;5;124m\"\u001b[39m\u001b[38;5;124mencoding_errors\u001b[39m\u001b[38;5;124m\"\u001b[39m, \u001b[38;5;124m\"\u001b[39m\u001b[38;5;124mstrict\u001b[39m\u001b[38;5;124m\"\u001b[39m),\n\u001b[0;32m   1743\u001b[0m     storage_options\u001b[38;5;241m=\u001b[39m\u001b[38;5;28mself\u001b[39m\u001b[38;5;241m.\u001b[39moptions\u001b[38;5;241m.\u001b[39mget(\u001b[38;5;124m\"\u001b[39m\u001b[38;5;124mstorage_options\u001b[39m\u001b[38;5;124m\"\u001b[39m, \u001b[38;5;28;01mNone\u001b[39;00m),\n\u001b[0;32m   1744\u001b[0m )\n\u001b[0;32m   1745\u001b[0m \u001b[38;5;28;01massert\u001b[39;00m \u001b[38;5;28mself\u001b[39m\u001b[38;5;241m.\u001b[39mhandles \u001b[38;5;129;01mis\u001b[39;00m \u001b[38;5;129;01mnot\u001b[39;00m \u001b[38;5;28;01mNone\u001b[39;00m\n\u001b[0;32m   1746\u001b[0m f \u001b[38;5;241m=\u001b[39m \u001b[38;5;28mself\u001b[39m\u001b[38;5;241m.\u001b[39mhandles\u001b[38;5;241m.\u001b[39mhandle\n",
      "File \u001b[1;32m~\\anaconda3\\New folder\\Lib\\site-packages\\pandas\\io\\common.py:856\u001b[0m, in \u001b[0;36mget_handle\u001b[1;34m(path_or_buf, mode, encoding, compression, memory_map, is_text, errors, storage_options)\u001b[0m\n\u001b[0;32m    851\u001b[0m \u001b[38;5;28;01melif\u001b[39;00m \u001b[38;5;28misinstance\u001b[39m(handle, \u001b[38;5;28mstr\u001b[39m):\n\u001b[0;32m    852\u001b[0m     \u001b[38;5;66;03m# Check whether the filename is to be opened in binary mode.\u001b[39;00m\n\u001b[0;32m    853\u001b[0m     \u001b[38;5;66;03m# Binary mode does not support 'encoding' and 'newline'.\u001b[39;00m\n\u001b[0;32m    854\u001b[0m     \u001b[38;5;28;01mif\u001b[39;00m ioargs\u001b[38;5;241m.\u001b[39mencoding \u001b[38;5;129;01mand\u001b[39;00m \u001b[38;5;124m\"\u001b[39m\u001b[38;5;124mb\u001b[39m\u001b[38;5;124m\"\u001b[39m \u001b[38;5;129;01mnot\u001b[39;00m \u001b[38;5;129;01min\u001b[39;00m ioargs\u001b[38;5;241m.\u001b[39mmode:\n\u001b[0;32m    855\u001b[0m         \u001b[38;5;66;03m# Encoding\u001b[39;00m\n\u001b[1;32m--> 856\u001b[0m         handle \u001b[38;5;241m=\u001b[39m \u001b[38;5;28mopen\u001b[39m(\n\u001b[0;32m    857\u001b[0m             handle,\n\u001b[0;32m    858\u001b[0m             ioargs\u001b[38;5;241m.\u001b[39mmode,\n\u001b[0;32m    859\u001b[0m             encoding\u001b[38;5;241m=\u001b[39mioargs\u001b[38;5;241m.\u001b[39mencoding,\n\u001b[0;32m    860\u001b[0m             errors\u001b[38;5;241m=\u001b[39merrors,\n\u001b[0;32m    861\u001b[0m             newline\u001b[38;5;241m=\u001b[39m\u001b[38;5;124m\"\u001b[39m\u001b[38;5;124m\"\u001b[39m,\n\u001b[0;32m    862\u001b[0m         )\n\u001b[0;32m    863\u001b[0m     \u001b[38;5;28;01melse\u001b[39;00m:\n\u001b[0;32m    864\u001b[0m         \u001b[38;5;66;03m# Binary mode\u001b[39;00m\n\u001b[0;32m    865\u001b[0m         handle \u001b[38;5;241m=\u001b[39m \u001b[38;5;28mopen\u001b[39m(handle, ioargs\u001b[38;5;241m.\u001b[39mmode)\n",
      "\u001b[1;31mFileNotFoundError\u001b[0m: [Errno 2] No such file or directory: '../input/world-happiness-report-2021/world-happiness-report-2021.csv'"
     ]
    }
   ],
   "source": [
    "df = pd.read_csv('../input/world-happiness-report-2021/world-happiness-report-2021.csv')\n",
    "df1=pd.read_csv('../input/world-happiness-report-2021/world-happiness-report.csv')\n",
    "import warnings\n",
    "warnings.filterwarnings(\"ignore\")"
   ]
  },
  {
   "cell_type": "markdown",
   "id": "capital-enhancement",
   "metadata": {
    "papermill": {
     "duration": 0.024722,
     "end_time": "2021-06-28T04:56:47.939415",
     "exception": false,
     "start_time": "2021-06-28T04:56:47.914693",
     "status": "completed"
    },
    "tags": []
   },
   "source": [
    "# Read and Analyse Data"
   ]
  },
  {
   "cell_type": "code",
   "execution_count": null,
   "id": "early-bullet",
   "metadata": {
    "execution": {
     "iopub.execute_input": "2021-06-28T04:56:48.004171Z",
     "iopub.status.busy": "2021-06-28T04:56:48.002898Z",
     "iopub.status.idle": "2021-06-28T04:56:48.040179Z",
     "shell.execute_reply": "2021-06-28T04:56:48.039540Z"
    },
    "papermill": {
     "duration": 0.074521,
     "end_time": "2021-06-28T04:56:48.040463",
     "exception": false,
     "start_time": "2021-06-28T04:56:47.965942",
     "status": "completed"
    },
    "tags": []
   },
   "outputs": [],
   "source": [
    "df.head()"
   ]
  },
  {
   "cell_type": "code",
   "execution_count": null,
   "id": "impossible-plumbing",
   "metadata": {
    "execution": {
     "iopub.execute_input": "2021-06-28T04:56:48.113091Z",
     "iopub.status.busy": "2021-06-28T04:56:48.112070Z",
     "iopub.status.idle": "2021-06-28T04:56:48.117528Z",
     "shell.execute_reply": "2021-06-28T04:56:48.116833Z"
    },
    "papermill": {
     "duration": 0.050759,
     "end_time": "2021-06-28T04:56:48.117694",
     "exception": false,
     "start_time": "2021-06-28T04:56:48.066935",
     "status": "completed"
    },
    "tags": []
   },
   "outputs": [],
   "source": [
    "df1.head()"
   ]
  },
  {
   "cell_type": "markdown",
   "id": "through-shuttle",
   "metadata": {
    "papermill": {
     "duration": 0.02791,
     "end_time": "2021-06-28T04:56:48.172467",
     "exception": false,
     "start_time": "2021-06-28T04:56:48.144557",
     "status": "completed"
    },
    "tags": []
   },
   "source": [
    "\n",
    "1. df - consist of 2021 happiness index and corresponding data\n",
    "2. df1 - consist of past records by country"
   ]
  },
  {
   "cell_type": "markdown",
   "id": "resident-personal",
   "metadata": {
    "papermill": {
     "duration": 0.026238,
     "end_time": "2021-06-28T04:56:48.225566",
     "exception": false,
     "start_time": "2021-06-28T04:56:48.199328",
     "status": "completed"
    },
    "tags": []
   },
   "source": [
    "# Import plotting libraries"
   ]
  },
  {
   "cell_type": "code",
   "execution_count": null,
   "id": "cutting-hammer",
   "metadata": {
    "execution": {
     "iopub.execute_input": "2021-06-28T04:56:48.284160Z",
     "iopub.status.busy": "2021-06-28T04:56:48.283414Z",
     "iopub.status.idle": "2021-06-28T04:56:49.217891Z",
     "shell.execute_reply": "2021-06-28T04:56:49.217295Z"
    },
    "papermill": {
     "duration": 0.965991,
     "end_time": "2021-06-28T04:56:49.218050",
     "exception": false,
     "start_time": "2021-06-28T04:56:48.252059",
     "status": "completed"
    },
    "tags": []
   },
   "outputs": [],
   "source": [
    "import matplotlib.pyplot as plt\n",
    "import matplotlib.gridspec as gs\n",
    "import seaborn as sns"
   ]
  },
  {
   "cell_type": "code",
   "execution_count": null,
   "id": "conditional-maine",
   "metadata": {
    "execution": {
     "iopub.execute_input": "2021-06-28T04:56:49.292035Z",
     "iopub.status.busy": "2021-06-28T04:56:49.291258Z",
     "iopub.status.idle": "2021-06-28T04:56:49.364804Z",
     "shell.execute_reply": "2021-06-28T04:56:49.364123Z"
    },
    "papermill": {
     "duration": 0.120319,
     "end_time": "2021-06-28T04:56:49.364940",
     "exception": false,
     "start_time": "2021-06-28T04:56:49.244621",
     "status": "completed"
    },
    "tags": []
   },
   "outputs": [],
   "source": [
    "#Colors to be used in the plots\n",
    "color=[\"#f94144\",\"#f3722c\",\"#f8961e\",\"#f9c74f\",\"#90be6d\",\"#43aa8b\",\"#577590\"]\n",
    "sns.palplot(color)"
   ]
  },
  {
   "cell_type": "code",
   "execution_count": null,
   "id": "minor-liquid",
   "metadata": {
    "execution": {
     "iopub.execute_input": "2021-06-28T04:56:49.438749Z",
     "iopub.status.busy": "2021-06-28T04:56:49.430453Z",
     "iopub.status.idle": "2021-06-28T04:56:49.754483Z",
     "shell.execute_reply": "2021-06-28T04:56:49.753945Z"
    },
    "papermill": {
     "duration": 0.362571,
     "end_time": "2021-06-28T04:56:49.754627",
     "exception": false,
     "start_time": "2021-06-28T04:56:49.392056",
     "status": "completed"
    },
    "tags": []
   },
   "outputs": [],
   "source": [
    "#top 5 and bottom 5 countries in 2021 report\n",
    "fig= plt.figure(figsize=(15,8))\n",
    "g=gs.GridSpec(ncols=1, nrows=2, figure=fig)\n",
    "plt.suptitle(\"Top 5 and Bottom 5 countries in Happiens index 2021\", family='Serif', weight='bold', size=20)\n",
    "ax1=plt.subplot(g[0,0])\n",
    "\n",
    "top_5=df.head(5)\n",
    "bot_5= df.tail(5)\n",
    "ax1=sns.barplot(data=top_5, x=top_5['Ladder score'],y=top_5['Country name'], color=color[4])\n",
    "#ax1.set_xlabel('')\n",
    "ax1.xaxis.set_visible(False)\n",
    "ax1.annotate(\"Top 5 countries in Happiness index\",xy=(8,2), family='Serif', weight='bold', size=12)\n",
    "ax2=plt.subplot(g[1,0], sharex=ax1)\n",
    "ax2=sns.barplot(data=bot_5, x=bot_5['Ladder score'],y=bot_5['Country name'], color=color[0])\n",
    "ax2.annotate(\"Bottom 5 countries in Happiness index\",xy=(8,2), family='Serif', weight='bold', size=12)\n",
    "for s in ['left','right','top','bottom']:\n",
    "    ax1.spines[s].set_visible(False)\n",
    "    ax2.spines[s].set_visible(False)"
   ]
  },
  {
   "cell_type": "code",
   "execution_count": null,
   "id": "trained-wayne",
   "metadata": {
    "execution": {
     "iopub.execute_input": "2021-06-28T04:56:49.826492Z",
     "iopub.status.busy": "2021-06-28T04:56:49.821149Z",
     "iopub.status.idle": "2021-06-28T04:56:50.155947Z",
     "shell.execute_reply": "2021-06-28T04:56:50.156439Z"
    },
    "papermill": {
     "duration": 0.373223,
     "end_time": "2021-06-28T04:56:50.156602",
     "exception": false,
     "start_time": "2021-06-28T04:56:49.783379",
     "status": "completed"
    },
    "tags": []
   },
   "outputs": [],
   "source": [
    "fig=plt.figure(figsize=(15,8))\n",
    "plt.title(\"Ladder score distribution and mean by countries\",family='Serif', weight='bold', size=20)\n",
    "sns.kdeplot(df['Ladder score'], fill=True,color=color[-1], shade=True, edgecolor='black', linewidth=3, ls='--', alpha=0.3)\n",
    "plt.axvline(df['Ladder score'].mean(), c='black',ls='--')\n",
    "plt.axvline(df[df['Country name']=='Finland']['Ladder score'].mean(), c=color[4])\n",
    "plt.text(x=df[df['Country name']=='Finland']['Ladder score'].mean(), y=0.15, s='Finland', rotation=90)\n",
    "plt.axvline(df[df['Country name']=='Afghanistan']['Ladder score'].mean(), c=color[0])\n",
    "plt.text(x=df[df['Country name']=='Afghanistan']['Ladder score'].mean(), y=0.15, s='Afghanistan', rotation=90)\n",
    "plt.axvline(df[df['Country name']=='India']['Ladder score'].mean(), c=color[1])\n",
    "plt.text(x=df[df['Country name']=='India']['Ladder score'].mean(), y=0.15, s='India', rotation=90)\n",
    "plt.axvline(df[df['Country name']=='United States']['Ladder score'].mean(), c=color[1])\n",
    "plt.text(x=df[df['Country name']=='United States']['Ladder score'].mean(), y=0.15, s='United States', rotation=90)\n",
    "for s in ['left','right','top','bottom']:\n",
    "    plt.gca().spines[s].set_visible(False)\n",
    "plt.text(x=9,y=-0.05, s=\"There are difference in mean between the Asian countries and EU & American countries\", ha='right', family='San', size=15, weight='bold')"
   ]
  },
  {
   "cell_type": "code",
   "execution_count": null,
   "id": "coastal-visit",
   "metadata": {
    "execution": {
     "iopub.execute_input": "2021-06-28T04:56:50.248145Z",
     "iopub.status.busy": "2021-06-28T04:56:50.243530Z",
     "iopub.status.idle": "2021-06-28T04:56:50.578576Z",
     "shell.execute_reply": "2021-06-28T04:56:50.579344Z"
    },
    "papermill": {
     "duration": 0.392185,
     "end_time": "2021-06-28T04:56:50.579550",
     "exception": false,
     "start_time": "2021-06-28T04:56:50.187365",
     "status": "completed"
    },
    "tags": []
   },
   "outputs": [],
   "source": [
    "fig=plt.figure(figsize=(20,8))\n",
    "plt.title(\"Ladder score distribution and mean Regional Indicators\",family='Serif', weight='bold', size=20)\n",
    "sns.kdeplot(df['Ladder score'], fill=True, shade=True, color=color[-1], linewidth=3, ls='--', edgecolor='black', alpha=0.5)\n",
    "plt.axvline(x=df['Ladder score'].mean(), linewidth=4, ls='--', color='white')\n",
    "pop=x=df['Ladder score'].mean()\n",
    "\n",
    "plt.text(x=df['Ladder score'].mean(),y=0, s='Population Mean', rotation=90)\n",
    "for i in df['Regional indicator'].unique():\n",
    "    m=df[df['Regional indicator']==i]['Ladder score'].mean()\n",
    "    \n",
    "    if m<pop:\n",
    "        c=color[1]\n",
    "    else:\n",
    "        c=color[5]\n",
    "    plt.axvline(x=m, color=c)\n",
    "    plt.text(x=m, y=0.05, rotation=90,s=i)\n",
    "for s in ['left','right','top','bottom']:\n",
    "    plt.gca().spines[s].set_visible(False)\n",
    "   \n",
    "    "
   ]
  },
  {
   "cell_type": "code",
   "execution_count": null,
   "id": "pressed-oracle",
   "metadata": {
    "execution": {
     "iopub.execute_input": "2021-06-28T04:56:50.701314Z",
     "iopub.status.busy": "2021-06-28T04:56:50.680230Z",
     "iopub.status.idle": "2021-06-28T04:56:51.049304Z",
     "shell.execute_reply": "2021-06-28T04:56:51.048454Z"
    },
    "papermill": {
     "duration": 0.433235,
     "end_time": "2021-06-28T04:56:51.049466",
     "exception": false,
     "start_time": "2021-06-28T04:56:50.616231",
     "status": "completed"
    },
    "tags": []
   },
   "outputs": [],
   "source": [
    "fig=plt.figure(figsize=(15,8))\n",
    "plt.title(\"Ladder score distribution by Regional indicator\",family='Serif', weight='bold', size=20)\n",
    "sns.kdeplot(df['Ladder score'], fill=True,hue=df['Regional indicator'], color=color, shade=True, linewidth=2, edgecolor='white', multiple='layer')\n",
    "plt.axvline(df['Ladder score'].mean(), c='black',ls='--')\n",
    "plt.text(x=df['Ladder score'].mean(),y=-0.01,s='Population mean', size=15)\n",
    "for s in ['left','right','top','bottom']:\n",
    "    plt.gca().spines[s].set_visible(False)\n"
   ]
  },
  {
   "cell_type": "code",
   "execution_count": null,
   "id": "invalid-change",
   "metadata": {
    "execution": {
     "iopub.execute_input": "2021-06-28T04:56:51.156732Z",
     "iopub.status.busy": "2021-06-28T04:56:51.152248Z",
     "iopub.status.idle": "2021-06-28T04:56:51.523809Z",
     "shell.execute_reply": "2021-06-28T04:56:51.523261Z"
    },
    "papermill": {
     "duration": 0.437808,
     "end_time": "2021-06-28T04:56:51.523945",
     "exception": false,
     "start_time": "2021-06-28T04:56:51.086137",
     "status": "completed"
    },
    "tags": []
   },
   "outputs": [],
   "source": [
    "fig=plt.figure(figsize=(15,8))\n",
    "plt.title(\"Data distribution by Regional indicator\",family='Serif', weight='bold', size=20)\n",
    "sns.boxplot(x=df['Ladder score'],y=df['Regional indicator'], palette=color)\n",
    "plt.axvline(df['Ladder score'].mean(), c='black',ls='--')\n",
    "plt.text(x=df['Ladder score'].mean(),y=10,s='Population mean', size=15)\n",
    "for s in ['left','right','top','bottom']:\n",
    "    plt.gca().spines[s].set_visible(False)\n"
   ]
  },
  {
   "cell_type": "markdown",
   "id": "auburn-industry",
   "metadata": {
    "papermill": {
     "duration": 0.036926,
     "end_time": "2021-06-28T04:56:51.598047",
     "exception": false,
     "start_time": "2021-06-28T04:56:51.561121",
     "status": "completed"
    },
    "tags": []
   },
   "source": [
    "# Hypothesis testing for Regions\n",
    "# is there a significant difference in between Two Regions\n",
    "\n",
    "# hypothesis test\n",
    "\n",
    "# Ho = There is no significant differenct\n",
    "# H1 = There are signifcant difference"
   ]
  },
  {
   "cell_type": "code",
   "execution_count": null,
   "id": "destroyed-michael",
   "metadata": {
    "execution": {
     "iopub.execute_input": "2021-06-28T04:56:51.684861Z",
     "iopub.status.busy": "2021-06-28T04:56:51.683880Z",
     "iopub.status.idle": "2021-06-28T04:56:51.687570Z",
     "shell.execute_reply": "2021-06-28T04:56:51.687062Z"
    },
    "papermill": {
     "duration": 0.052097,
     "end_time": "2021-06-28T04:56:51.687722",
     "exception": false,
     "start_time": "2021-06-28T04:56:51.635625",
     "status": "completed"
    },
    "tags": []
   },
   "outputs": [],
   "source": [
    "from scipy.stats import ttest_ind, wilcoxon, ttest_rel\n",
    "def hypo_test(reg1,reg2):\n",
    "    r1 = df[df['Regional indicator']==reg1]['Ladder score']\n",
    "    r2 = df[df['Regional indicator']==reg2]['Ladder score']\n",
    "    t1=\"Hypotheis test between regions: {} vs {}\".format(reg1,reg2)\n",
    "    stats, p_value= ttest_ind(r1, r2)\n",
    "    \n",
    "    if p_value <0.05:\n",
    "        t2=\"since p_value : {} is < 0.05, we can reject the Null Hypothesis and say there are significant difference\".format(np.round(p_value,3))\n",
    "    else:\n",
    "        t2=\"P_value: {} is >0.05, we can't reject the Null Hypothesis, so we say there is no difference\".format(np.round(p_value,3))\n",
    "    fig=plt.figure(figsize=(15,3))\n",
    "    plt.title(t1,family='Serif', weight='bold', size=20)\n",
    "    plt.text(x=plt.xlim()[1]/2,y=plt.ylim()[1]/2,s=t2,ha='center', family='Serif', weight='bold', size=15)\n",
    "    for pos in ['right','top','bottom','left']:\n",
    "        plt.gca().spines[pos].set_visible(False)\n",
    "    plt.tick_params(axis='x', which='both', bottom=False, top=False, labelbottom=False)\n",
    "    plt.tick_params(axis='y', which='both', right=False, left=False, labelleft=False)\n",
    "    return"
   ]
  },
  {
   "cell_type": "code",
   "execution_count": null,
   "id": "incorporate-yacht",
   "metadata": {
    "execution": {
     "iopub.execute_input": "2021-06-28T04:56:51.839476Z",
     "iopub.status.busy": "2021-06-28T04:56:51.814291Z",
     "iopub.status.idle": "2021-06-28T04:56:52.034451Z",
     "shell.execute_reply": "2021-06-28T04:56:52.035010Z"
    },
    "papermill": {
     "duration": 0.310188,
     "end_time": "2021-06-28T04:56:52.035202",
     "exception": false,
     "start_time": "2021-06-28T04:56:51.725014",
     "status": "completed"
    },
    "tags": []
   },
   "outputs": [],
   "source": [
    "reg=df['Regional indicator'].unique()\n",
    "hypo_test(reg[0],reg[1])\n",
    "hypo_test(reg[0],reg[-1])"
   ]
  },
  {
   "cell_type": "code",
   "execution_count": null,
   "id": "unauthorized-bearing",
   "metadata": {
    "execution": {
     "iopub.execute_input": "2021-06-28T04:56:52.144879Z",
     "iopub.status.busy": "2021-06-28T04:56:52.126860Z",
     "iopub.status.idle": "2021-06-28T04:56:52.452394Z",
     "shell.execute_reply": "2021-06-28T04:56:52.451805Z"
    },
    "papermill": {
     "duration": 0.376064,
     "end_time": "2021-06-28T04:56:52.452550",
     "exception": false,
     "start_time": "2021-06-28T04:56:52.076486",
     "status": "completed"
    },
    "tags": []
   },
   "outputs": [],
   "source": [
    "top_5 = df1.groupby('Country name')['Life Ladder'].mean().nlargest(5)\n",
    "#bot_5 = df1.groupby('Country name')['Life Ladder'].mean().nsmallest(5)\n",
    "fig=plt.figure(figsize=(15,10))\n",
    "plt.title(\"Life Ladder of top 5 countries and India\",family='Serif', weight='bold', size=20)\n",
    "sns.lineplot(data=df1[df1['Country name'].isin(top_5.index)], x='year',y='Life Ladder',hue='Country name', palette=color[0:5])\n",
    "sns.lineplot(data=df1[df1['Country name']=='India'], x='year',y='Life Ladder', color=color[1], linewidth=3, ls='--')\n"
   ]
  },
  {
   "cell_type": "markdown",
   "id": "brown-cheat",
   "metadata": {
    "papermill": {
     "duration": 0.042307,
     "end_time": "2021-06-28T04:56:52.541041",
     "exception": false,
     "start_time": "2021-06-28T04:56:52.498734",
     "status": "completed"
    },
    "tags": []
   },
   "source": [
    "Let us check what are the field contribute to happiness index"
   ]
  },
  {
   "cell_type": "code",
   "execution_count": null,
   "id": "conditional-recovery",
   "metadata": {
    "execution": {
     "iopub.execute_input": "2021-06-28T04:56:52.631503Z",
     "iopub.status.busy": "2021-06-28T04:56:52.630542Z",
     "iopub.status.idle": "2021-06-28T04:56:52.633715Z",
     "shell.execute_reply": "2021-06-28T04:56:52.633175Z"
    },
    "papermill": {
     "duration": 0.05093,
     "end_time": "2021-06-28T04:56:52.633917",
     "exception": false,
     "start_time": "2021-06-28T04:56:52.582987",
     "status": "completed"
    },
    "tags": []
   },
   "outputs": [],
   "source": [
    "df2=df[['Country name', 'Regional indicator', 'Ladder score',\n",
    "        'Logged GDP per capita', 'Social support', 'Healthy life expectancy',\n",
    "       'Freedom to make life choices', 'Generosity',\n",
    "       'Perceptions of corruption']]"
   ]
  },
  {
   "cell_type": "code",
   "execution_count": null,
   "id": "golden-southeast",
   "metadata": {
    "execution": {
     "iopub.execute_input": "2021-06-28T04:56:52.722895Z",
     "iopub.status.busy": "2021-06-28T04:56:52.722222Z",
     "iopub.status.idle": "2021-06-28T04:56:52.726012Z",
     "shell.execute_reply": "2021-06-28T04:56:52.725333Z"
    },
    "papermill": {
     "duration": 0.050424,
     "end_time": "2021-06-28T04:56:52.726154",
     "exception": false,
     "start_time": "2021-06-28T04:56:52.675730",
     "status": "completed"
    },
    "tags": []
   },
   "outputs": [],
   "source": [
    "cols=df2.corr()['Ladder score'].sort_values(ascending=False)"
   ]
  },
  {
   "cell_type": "code",
   "execution_count": null,
   "id": "mathematical-champion",
   "metadata": {
    "execution": {
     "iopub.execute_input": "2021-06-28T04:56:52.817619Z",
     "iopub.status.busy": "2021-06-28T04:56:52.816928Z",
     "iopub.status.idle": "2021-06-28T04:56:54.424885Z",
     "shell.execute_reply": "2021-06-28T04:56:54.425467Z"
    },
    "papermill": {
     "duration": 1.657238,
     "end_time": "2021-06-28T04:56:54.425681",
     "exception": false,
     "start_time": "2021-06-28T04:56:52.768443",
     "status": "completed"
    },
    "tags": []
   },
   "outputs": [],
   "source": [
    "fig=plt.figure(figsize=(15,10))\n",
    "plt.suptitle(\"Comparing the Features that contribute for Ladder score\",family='Serif', weight='bold', size=20)\n",
    "j=0\n",
    "for i in cols.index[1:]:\n",
    "    \n",
    "    ax=plt.subplot(421+j)\n",
    "    ax=sns.regplot(data=df2, x='Ladder score',y=i, color=color[-j])\n",
    "    ax.legend('')\n",
    "    j=j+1\n",
    "    \n",
    "plt.legend('')\n"
   ]
  },
  {
   "cell_type": "markdown",
   "id": "comic-measurement",
   "metadata": {
    "papermill": {
     "duration": 0.045251,
     "end_time": "2021-06-28T04:56:54.517609",
     "exception": false,
     "start_time": "2021-06-28T04:56:54.472358",
     "status": "completed"
    },
    "tags": []
   },
   "source": [
    "# Observation\n",
    "Above plot clearly shows that the columns \n",
    "1. Logged GDP per capita\n",
    "2. Social support\n",
    "3. Healthy life expectancy\n",
    "4. Freedom to make life choices\n",
    "5. Generosity - less likely\n",
    "6. Perceptions of corruption\n",
    "\n",
    "have clear contribution to Happiness index"
   ]
  },
  {
   "cell_type": "code",
   "execution_count": null,
   "id": "silver-meeting",
   "metadata": {
    "execution": {
     "iopub.execute_input": "2021-06-28T04:56:54.618770Z",
     "iopub.status.busy": "2021-06-28T04:56:54.618095Z",
     "iopub.status.idle": "2021-06-28T04:56:54.620638Z",
     "shell.execute_reply": "2021-06-28T04:56:54.621118Z"
    },
    "papermill": {
     "duration": 0.056358,
     "end_time": "2021-06-28T04:56:54.621290",
     "exception": false,
     "start_time": "2021-06-28T04:56:54.564932",
     "status": "completed"
    },
    "tags": []
   },
   "outputs": [],
   "source": [
    "def comp_country(country1, country2):\n",
    "    df3=df1[df1['Country name'].isin([country1,country2])]\n",
    "    df3.rename(columns={'Healthy life expectancy at birth':'Healthy life expectancy','Log GDP per capita':'Logged GDP per capita','Life Ladder':'Ladder score'}, inplace=True)\n",
    "    fig=plt.figure(figsize=(15,10))\n",
    "    plt.suptitle(\"Comparing the Features that contribute for Happiness index for {} vs {}\".format(country1, country2),family='Serif', weight='bold', size=20)\n",
    "    j=0 \n",
    "    for i in cols.index:    \n",
    "        ax=plt.subplot(421+j)\n",
    "        sns.lineplot(data=df3,x='year',y=i, hue='Country name', color=color[-2])\n",
    "        j=j+1\n",
    "    return"
   ]
  },
  {
   "cell_type": "code",
   "execution_count": null,
   "id": "indonesian-palace",
   "metadata": {
    "execution": {
     "iopub.execute_input": "2021-06-28T04:56:54.813772Z",
     "iopub.status.busy": "2021-06-28T04:56:54.792228Z",
     "iopub.status.idle": "2021-06-28T04:56:55.986251Z",
     "shell.execute_reply": "2021-06-28T04:56:55.985635Z"
    },
    "papermill": {
     "duration": 1.319588,
     "end_time": "2021-06-28T04:56:55.986392",
     "exception": false,
     "start_time": "2021-06-28T04:56:54.666804",
     "status": "completed"
    },
    "tags": []
   },
   "outputs": [],
   "source": [
    "comp_country('India','Finland')"
   ]
  },
  {
   "cell_type": "code",
   "execution_count": null,
   "id": "sophisticated-factor",
   "metadata": {
    "execution": {
     "iopub.execute_input": "2021-06-28T04:56:56.139000Z",
     "iopub.status.busy": "2021-06-28T04:56:56.118001Z",
     "iopub.status.idle": "2021-06-28T04:56:57.468634Z",
     "shell.execute_reply": "2021-06-28T04:56:57.469130Z"
    },
    "papermill": {
     "duration": 1.431409,
     "end_time": "2021-06-28T04:56:57.469294",
     "exception": false,
     "start_time": "2021-06-28T04:56:56.037885",
     "status": "completed"
    },
    "tags": []
   },
   "outputs": [],
   "source": [
    "comp_country('United States','Finland')"
   ]
  },
  {
   "cell_type": "code",
   "execution_count": null,
   "id": "lasting-residence",
   "metadata": {
    "execution": {
     "iopub.execute_input": "2021-06-28T04:56:57.584592Z",
     "iopub.status.busy": "2021-06-28T04:56:57.583809Z",
     "iopub.status.idle": "2021-06-28T04:56:57.588293Z",
     "shell.execute_reply": "2021-06-28T04:56:57.587602Z"
    },
    "papermill": {
     "duration": 0.066215,
     "end_time": "2021-06-28T04:56:57.588442",
     "exception": false,
     "start_time": "2021-06-28T04:56:57.522227",
     "status": "completed"
    },
    "tags": []
   },
   "outputs": [],
   "source": [
    "df.mean()"
   ]
  },
  {
   "cell_type": "code",
   "execution_count": null,
   "id": "annual-volleyball",
   "metadata": {
    "execution": {
     "iopub.execute_input": "2021-06-28T04:56:57.706539Z",
     "iopub.status.busy": "2021-06-28T04:56:57.705864Z",
     "iopub.status.idle": "2021-06-28T04:56:57.708878Z",
     "shell.execute_reply": "2021-06-28T04:56:57.709326Z"
    },
    "papermill": {
     "duration": 0.067668,
     "end_time": "2021-06-28T04:56:57.709641",
     "exception": false,
     "start_time": "2021-06-28T04:56:57.641973",
     "status": "completed"
    },
    "tags": []
   },
   "outputs": [],
   "source": [
    "def country_comp1(country1, country2):\n",
    "    df4=df[df['Country name'].isin([country1, country2])]\n",
    "    df4=df4[cols.index].T\n",
    "    df4.columns=[country1,country2]\n",
    "    print(df4)\n",
    "    fig = plt.figure(figsize=(15,10))\n",
    "    plt.suptitle(\"Comparison {} and {}\".format(country1, country2),family='Serif', weight='bold', size=20)\n",
    "    g=gs.GridSpec(nrows=1, ncols=2, wspace=0)\n",
    "    ax1=plt.subplot(g[0,0])\n",
    "    for s in ['left','right','top','bottom']:\n",
    "        ax1.spines[s].set_visible(False)\n",
    "   \n",
    "    #ax1.set_xlim(xmin=0)\n",
    "    ax1=sns.barplot(data=df4,y=df4.index,x=country1, color=color[-1]).invert_xaxis()\n",
    "    \n",
    "    ax2=plt.subplot(g[0,1], sharey=ax1)\n",
    "    ax2=sns.barplot(data=df4,y=df4.index,x=country2, color=color[-2])\n",
    "    #ax2.set_xlim(xmin=0)\n",
    "    ax2.yaxis.tick_right()\n",
    "    for s in ['left','right','top','bottom']:\n",
    "        ax2.spines[s].set_visible(False)\n",
    "    return"
   ]
  },
  {
   "cell_type": "code",
   "execution_count": null,
   "id": "available-locking",
   "metadata": {
    "execution": {
     "iopub.execute_input": "2021-06-28T04:56:57.821748Z",
     "iopub.status.busy": "2021-06-28T04:56:57.820915Z",
     "iopub.status.idle": "2021-06-28T04:56:57.825523Z",
     "shell.execute_reply": "2021-06-28T04:56:57.825011Z"
    },
    "papermill": {
     "duration": 0.063085,
     "end_time": "2021-06-28T04:56:57.825682",
     "exception": false,
     "start_time": "2021-06-28T04:56:57.762597",
     "status": "completed"
    },
    "tags": []
   },
   "outputs": [],
   "source": [
    "ax1.get_xlim()"
   ]
  },
  {
   "cell_type": "code",
   "execution_count": null,
   "id": "patent-organizer",
   "metadata": {
    "execution": {
     "iopub.execute_input": "2021-06-28T04:56:57.962080Z",
     "iopub.status.busy": "2021-06-28T04:56:57.961380Z",
     "iopub.status.idle": "2021-06-28T04:56:58.453035Z",
     "shell.execute_reply": "2021-06-28T04:56:58.453555Z"
    },
    "papermill": {
     "duration": 0.573612,
     "end_time": "2021-06-28T04:56:58.453784",
     "exception": false,
     "start_time": "2021-06-28T04:56:57.880172",
     "status": "completed"
    },
    "tags": []
   },
   "outputs": [],
   "source": [
    "country_comp1('Finland','India')"
   ]
  },
  {
   "cell_type": "code",
   "execution_count": null,
   "id": "circular-muslim",
   "metadata": {
    "execution": {
     "iopub.execute_input": "2021-06-28T04:56:58.611307Z",
     "iopub.status.busy": "2021-06-28T04:56:58.609407Z",
     "iopub.status.idle": "2021-06-28T04:56:58.941772Z",
     "shell.execute_reply": "2021-06-28T04:56:58.941072Z"
    },
    "papermill": {
     "duration": 0.432546,
     "end_time": "2021-06-28T04:56:58.941916",
     "exception": false,
     "start_time": "2021-06-28T04:56:58.509370",
     "status": "completed"
    },
    "tags": []
   },
   "outputs": [],
   "source": [
    "country_comp1('United States','Russia')"
   ]
  },
  {
   "cell_type": "code",
   "execution_count": null,
   "id": "athletic-fifty",
   "metadata": {
    "execution": {
     "iopub.execute_input": "2021-06-28T04:56:59.088184Z",
     "iopub.status.busy": "2021-06-28T04:56:59.081800Z",
     "iopub.status.idle": "2021-06-28T04:56:59.432691Z",
     "shell.execute_reply": "2021-06-28T04:56:59.432069Z"
    },
    "papermill": {
     "duration": 0.434074,
     "end_time": "2021-06-28T04:56:59.432841",
     "exception": false,
     "start_time": "2021-06-28T04:56:58.998767",
     "status": "completed"
    },
    "tags": []
   },
   "outputs": [],
   "source": [
    "country_comp1('United States','India')"
   ]
  },
  {
   "cell_type": "code",
   "execution_count": null,
   "id": "homeless-accuracy",
   "metadata": {
    "execution": {
     "iopub.execute_input": "2021-06-28T04:56:59.561292Z",
     "iopub.status.busy": "2021-06-28T04:56:59.558015Z",
     "iopub.status.idle": "2021-06-28T04:56:59.566938Z",
     "shell.execute_reply": "2021-06-28T04:56:59.566365Z"
    },
    "papermill": {
     "duration": 0.075734,
     "end_time": "2021-06-28T04:56:59.567090",
     "exception": false,
     "start_time": "2021-06-28T04:56:59.491356",
     "status": "completed"
    },
    "tags": []
   },
   "outputs": [],
   "source": [
    "df6=df1.merge(df['Regional indicator'],left_on=df1['Country name'], right_on=df['Country name']).drop('key_0', axis=1)"
   ]
  },
  {
   "cell_type": "code",
   "execution_count": null,
   "id": "thrown-trainer",
   "metadata": {
    "execution": {
     "iopub.execute_input": "2021-06-28T04:56:59.689321Z",
     "iopub.status.busy": "2021-06-28T04:56:59.688416Z",
     "iopub.status.idle": "2021-06-28T04:56:59.694574Z",
     "shell.execute_reply": "2021-06-28T04:56:59.693942Z"
    },
    "papermill": {
     "duration": 0.068901,
     "end_time": "2021-06-28T04:56:59.694749",
     "exception": false,
     "start_time": "2021-06-28T04:56:59.625848",
     "status": "completed"
    },
    "tags": []
   },
   "outputs": [],
   "source": [
    "df6['Regional indicator'].unique()"
   ]
  },
  {
   "cell_type": "code",
   "execution_count": null,
   "id": "heard-employer",
   "metadata": {
    "execution": {
     "iopub.execute_input": "2021-06-28T04:56:59.831435Z",
     "iopub.status.busy": "2021-06-28T04:56:59.820263Z",
     "iopub.status.idle": "2021-06-28T04:56:59.858579Z",
     "shell.execute_reply": "2021-06-28T04:56:59.858020Z"
    },
    "papermill": {
     "duration": 0.105202,
     "end_time": "2021-06-28T04:56:59.858736",
     "exception": false,
     "start_time": "2021-06-28T04:56:59.753534",
     "status": "completed"
    },
    "tags": []
   },
   "outputs": [],
   "source": [
    "df6[df6['Regional indicator']=='South Asia'].pivot_table(index='Country name', columns='year')['Life Ladder']"
   ]
  },
  {
   "cell_type": "code",
   "execution_count": null,
   "id": "romance-stupid",
   "metadata": {
    "execution": {
     "iopub.execute_input": "2021-06-28T04:57:00.013081Z",
     "iopub.status.busy": "2021-06-28T04:57:00.003849Z",
     "iopub.status.idle": "2021-06-28T04:57:10.634335Z",
     "shell.execute_reply": "2021-06-28T04:57:10.633833Z"
    },
    "papermill": {
     "duration": 10.716775,
     "end_time": "2021-06-28T04:57:10.634484",
     "exception": false,
     "start_time": "2021-06-28T04:56:59.917709",
     "status": "completed"
    },
    "tags": []
   },
   "outputs": [],
   "source": [
    "#fig=plt.figure(figsize=(15,10))\n",
    "for i in df6['Regional indicator'].unique():\n",
    "    _,ax=plt.subplots(figsize=(15,10))\n",
    "    ax.set_title(\"Comparison of Ladder score by countries in {} Region\".format(i),family='Serif', weight='bold', size=20)\n",
    "    ax=sns.heatmap(df6[df6['Regional indicator']==i].pivot_table(index='Country name', columns='year')['Life Ladder'], square=True, linewidths=1, cmap='GnBu_r', annot=True, cbar=False)\n",
    "   # plt.show()"
   ]
  },
  {
   "cell_type": "code",
   "execution_count": null,
   "id": "colored-square",
   "metadata": {
    "execution": {
     "iopub.execute_input": "2021-06-28T04:57:10.815189Z",
     "iopub.status.busy": "2021-06-28T04:57:10.814521Z",
     "iopub.status.idle": "2021-06-28T04:57:10.817573Z",
     "shell.execute_reply": "2021-06-28T04:57:10.816940Z"
    },
    "papermill": {
     "duration": 0.097504,
     "end_time": "2021-06-28T04:57:10.817739",
     "exception": false,
     "start_time": "2021-06-28T04:57:10.720235",
     "status": "completed"
    },
    "tags": []
   },
   "outputs": [],
   "source": [
    "# Ladder score changes - Inida\n",
    "df7=df1[df1['Country name'].isin(['India','Finland'])].loc[:,'Country name':'Life Ladder']\n"
   ]
  },
  {
   "cell_type": "code",
   "execution_count": null,
   "id": "round-kuwait",
   "metadata": {
    "execution": {
     "iopub.execute_input": "2021-06-28T04:57:11.066543Z",
     "iopub.status.busy": "2021-06-28T04:57:11.033031Z",
     "iopub.status.idle": "2021-06-28T04:57:11.546425Z",
     "shell.execute_reply": "2021-06-28T04:57:11.545900Z"
    },
    "papermill": {
     "duration": 0.641471,
     "end_time": "2021-06-28T04:57:11.546566",
     "exception": false,
     "start_time": "2021-06-28T04:57:10.905095",
     "status": "completed"
    },
    "tags": []
   },
   "outputs": [],
   "source": [
    "fig=plt.figure(figsize=(15,8))\n",
    "ax=plt.subplot()\n",
    "ax=sns.lineplot(data=df7,x='year',y='Life Ladder', alpha=0.5, hue='Country name')\n",
    "ax=sns.scatterplot(data=df7,x='year',y='Life Ladder',hue='Country name', size='Life Ladder', sizes=(100,700))\n",
    "for i in range(len(df7)):\n",
    "    ax.text(x=df7['year'].iloc[i],y=df7['Life Ladder'].iloc[i], s=df7['Life Ladder'].iloc[i])"
   ]
  },
  {
   "cell_type": "markdown",
   "id": "composed-collar",
   "metadata": {
    "papermill": {
     "duration": 0.087902,
     "end_time": "2021-06-28T04:57:11.723975",
     "exception": false,
     "start_time": "2021-06-28T04:57:11.636073",
     "status": "completed"
    },
    "tags": []
   },
   "source": [
    "# Conclusion\n",
    "Countries having good Healthly life, Social support, Freedom to make life choised, less corruptions, good per capita income have high happiness index"
   ]
  }
 ],
 "metadata": {
  "kernelspec": {
   "display_name": "Python 3 (ipykernel)",
   "language": "python",
   "name": "python3"
  },
  "language_info": {
   "codemirror_mode": {
    "name": "ipython",
    "version": 3
   },
   "file_extension": ".py",
   "mimetype": "text/x-python",
   "name": "python",
   "nbconvert_exporter": "python",
   "pygments_lexer": "ipython3",
   "version": "3.11.4"
  },
  "papermill": {
   "default_parameters": {},
   "duration": 30.910547,
   "end_time": "2021-06-28T04:57:12.622292",
   "environment_variables": {},
   "exception": null,
   "input_path": "__notebook__.ipynb",
   "output_path": "__notebook__.ipynb",
   "parameters": {},
   "start_time": "2021-06-28T04:56:41.711745",
   "version": "2.3.2"
  }
 },
 "nbformat": 4,
 "nbformat_minor": 5
}
